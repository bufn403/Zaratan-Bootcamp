{
 "cells": [
  {
   "cell_type": "code",
   "execution_count": 1,
   "metadata": {},
   "outputs": [],
   "source": [
    "import pandas as pd\n",
    "import json\n",
    "\n",
    "# Expands JSON columns by converting dictionary values into columns\n",
    "def expand_json_columns(df, json_columns):\n",
    "    for col in json_columns:\n",
    "        if col in df.columns:\n",
    "            df[col] = df[col].apply(lambda x: json.loads(x) if isinstance(x, str) else x)\n",
    "            df = df.drop(columns=[col]).join(pd.json_normalize(df[col]).add_prefix(f\"{col}_\"))\n",
    "    return df\n",
    "\n",
    "def convert_parquet_to_csv(parquet_file, csv_file):\n",
    "    df = pd.read_parquet(parquet_file)\n",
    "\n",
    "    json_columns = [\n",
    "        \"visits_by_day\", \"visitor_home_cbgs\", \"visitor_home_aggregation\",\n",
    "        \"visitor_daytime_cbgs\", \"visitor_country_of_origin\", \"bucketed_dwell_times\",\n",
    "        \"related_same_day_brand\", \"related_same_month_brand\", \"popularity_by_day\",\n",
    "        \"popularity_by_hour\", \"device_type\", \"carrier_name\"\n",
    "    ]\n",
    "    \n",
    "    df = expand_json_columns(df, json_columns)\n",
    "\n",
    "    # Save CSV\n",
    "    df.to_csv(csv_file, index=False)\n",
    "\n",
    "convert_parquet_to_csv(\"advan_jan2020.parquet\", \"advan_jan2020.csv\")\n"
   ]
  },
  {
   "cell_type": "markdown",
   "metadata": {},
   "source": []
  }
 ],
 "metadata": {
  "kernelspec": {
   "display_name": "ML",
   "language": "python",
   "name": "python3"
  },
  "language_info": {
   "codemirror_mode": {
    "name": "ipython",
    "version": 3
   },
   "file_extension": ".py",
   "mimetype": "text/x-python",
   "name": "python",
   "nbconvert_exporter": "python",
   "pygments_lexer": "ipython3",
   "version": "3.11.11"
  }
 },
 "nbformat": 4,
 "nbformat_minor": 2
}
